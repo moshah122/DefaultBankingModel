{
  "cells": [
    {
      "cell_type": "code",
      "execution_count": 2,
      "metadata": {
        "id": "1DvPmWIShkGY"
      },
      "outputs": [],
      "source": [
        "import numpy as np\n",
        "import pandas as pd\n",
        "import matplotlib.pyplot as plt\n",
        "import seaborn as sns\n",
        "import warnings\n",
        "warnings.filterwarnings('ignore')\n",
        "%matplotlib inline"
      ],
      "id": "1DvPmWIShkGY"
    },
    {
      "cell_type": "code",
      "source": [
        "#df is set to a dataset given by Dr. Nair, the professor of a course on Big Data I took as part of Columbia University's Summer Immersion Program"
      ],
      "metadata": {
        "id": "sKby6ZyirdV0"
      },
      "id": "sKby6ZyirdV0",
      "execution_count": null,
      "outputs": []
    },
    {
      "cell_type": "code",
      "execution_count": null,
      "metadata": {
        "id": "rP4aKzckhkGb",
        "outputId": "a3728748-4150-4898-9a37-ae70a4efa59a"
      },
      "outputs": [
        {
          "data": {
            "text/plain": [
              "(999, 70)"
            ]
          },
          "execution_count": 68,
          "metadata": {},
          "output_type": "execute_result"
        }
      ],
      "source": [
        "df.shape"
      ],
      "id": "rP4aKzckhkGb"
    },
    {
      "cell_type": "code",
      "execution_count": null,
      "metadata": {
        "id": "snl94vOChkGc",
        "outputId": "d3163f83-e294-484b-d8b9-4c67223fd3b9"
      },
      "outputs": [
        {
          "data": {
            "text/plain": [
              "Index(['id', 'member_id', 'CLI', 'term', 'int_rate', 'installment', 'grade',\n",
              "       'sub_grade', 'emp_title', 'emp_length', 'home_ownership', 'annual_inc',\n",
              "       'verification_status', 'loan_status', 'pymnt_plan', 'desc', 'purpose',\n",
              "       'title', 'zip_code', 'addr_state', 'dti', 'delinq_2yrs',\n",
              "       'earliest_cr_line', 'inq_last_6mths', 'mths_since_last_delinq',\n",
              "       'mths_since_last_record', 'open_acc', 'pub_rec', 'revol_bal',\n",
              "       'revol_util', 'total_acc', 'initial_list_status', 'out_prncp',\n",
              "       'out_prncp_inv', 'total_pymnt', 'total_pymnt_inv', 'total_rec_prncp',\n",
              "       'total_rec_int', 'total_rec_late_fee', 'recoveries',\n",
              "       'collection_recovery_fee', 'last_pymnt_d', 'last_pymnt_amnt',\n",
              "       'next_pymnt_d', 'last_credit_pull_d', 'collections_12_mths_ex_med',\n",
              "       'mths_since_last_major_derog', 'policy_code', 'application_type',\n",
              "       'annual_inc_joint', 'dti_joint', 'verification_status_joint',\n",
              "       'acc_now_delinq', 'tot_coll_amt', 'tot_cur_bal', 'open_acc_6m',\n",
              "       'open_il_6m', 'open_il_12m', 'open_il_24m', 'mths_since_rcnt_il',\n",
              "       'total_bal_il', 'il_util', 'open_rv_12m', 'open_rv_24m', 'max_bal_bc',\n",
              "       'all_util', 'total_rev_hi_lim', 'inq_fi', 'total_cu_tl',\n",
              "       'inq_last_12m'],\n",
              "      dtype='object')"
            ]
          },
          "execution_count": 70,
          "metadata": {},
          "output_type": "execute_result"
        }
      ],
      "source": [
        "df.columns"
      ],
      "id": "snl94vOChkGc"
    },
    {
      "cell_type": "code",
      "execution_count": null,
      "metadata": {
        "id": "2xbthhqfhkGc",
        "outputId": "c090a687-e426-4721-f722-797dd2d23112"
      },
      "outputs": [
        {
          "data": {
            "text/html": [
              "<div>\n",
              "<style scoped>\n",
              "    .dataframe tbody tr th:only-of-type {\n",
              "        vertical-align: middle;\n",
              "    }\n",
              "\n",
              "    .dataframe tbody tr th {\n",
              "        vertical-align: top;\n",
              "    }\n",
              "\n",
              "    .dataframe thead th {\n",
              "        text-align: right;\n",
              "    }\n",
              "</style>\n",
              "<table border=\"1\" class=\"dataframe\">\n",
              "  <thead>\n",
              "    <tr style=\"text-align: right;\">\n",
              "      <th></th>\n",
              "      <th>Total</th>\n",
              "      <th>Percent</th>\n",
              "    </tr>\n",
              "  </thead>\n",
              "  <tbody>\n",
              "    <tr>\n",
              "      <th>inq_last_12m</th>\n",
              "      <td>999</td>\n",
              "      <td>100.000000</td>\n",
              "    </tr>\n",
              "    <tr>\n",
              "      <th>open_il_24m</th>\n",
              "      <td>999</td>\n",
              "      <td>100.000000</td>\n",
              "    </tr>\n",
              "    <tr>\n",
              "      <th>total_cu_tl</th>\n",
              "      <td>999</td>\n",
              "      <td>100.000000</td>\n",
              "    </tr>\n",
              "    <tr>\n",
              "      <th>annual_inc_joint</th>\n",
              "      <td>999</td>\n",
              "      <td>100.000000</td>\n",
              "    </tr>\n",
              "    <tr>\n",
              "      <th>dti_joint</th>\n",
              "      <td>999</td>\n",
              "      <td>100.000000</td>\n",
              "    </tr>\n",
              "    <tr>\n",
              "      <th>verification_status_joint</th>\n",
              "      <td>999</td>\n",
              "      <td>100.000000</td>\n",
              "    </tr>\n",
              "    <tr>\n",
              "      <th>tot_coll_amt</th>\n",
              "      <td>999</td>\n",
              "      <td>100.000000</td>\n",
              "    </tr>\n",
              "    <tr>\n",
              "      <th>tot_cur_bal</th>\n",
              "      <td>999</td>\n",
              "      <td>100.000000</td>\n",
              "    </tr>\n",
              "    <tr>\n",
              "      <th>open_acc_6m</th>\n",
              "      <td>999</td>\n",
              "      <td>100.000000</td>\n",
              "    </tr>\n",
              "    <tr>\n",
              "      <th>open_il_6m</th>\n",
              "      <td>999</td>\n",
              "      <td>100.000000</td>\n",
              "    </tr>\n",
              "    <tr>\n",
              "      <th>open_il_12m</th>\n",
              "      <td>999</td>\n",
              "      <td>100.000000</td>\n",
              "    </tr>\n",
              "    <tr>\n",
              "      <th>mths_since_last_major_derog</th>\n",
              "      <td>999</td>\n",
              "      <td>100.000000</td>\n",
              "    </tr>\n",
              "    <tr>\n",
              "      <th>mths_since_rcnt_il</th>\n",
              "      <td>999</td>\n",
              "      <td>100.000000</td>\n",
              "    </tr>\n",
              "    <tr>\n",
              "      <th>max_bal_bc</th>\n",
              "      <td>999</td>\n",
              "      <td>100.000000</td>\n",
              "    </tr>\n",
              "    <tr>\n",
              "      <th>inq_fi</th>\n",
              "      <td>999</td>\n",
              "      <td>100.000000</td>\n",
              "    </tr>\n",
              "    <tr>\n",
              "      <th>total_bal_il</th>\n",
              "      <td>999</td>\n",
              "      <td>100.000000</td>\n",
              "    </tr>\n",
              "    <tr>\n",
              "      <th>all_util</th>\n",
              "      <td>999</td>\n",
              "      <td>100.000000</td>\n",
              "    </tr>\n",
              "    <tr>\n",
              "      <th>total_rev_hi_lim</th>\n",
              "      <td>999</td>\n",
              "      <td>100.000000</td>\n",
              "    </tr>\n",
              "    <tr>\n",
              "      <th>open_rv_24m</th>\n",
              "      <td>999</td>\n",
              "      <td>100.000000</td>\n",
              "    </tr>\n",
              "    <tr>\n",
              "      <th>open_rv_12m</th>\n",
              "      <td>999</td>\n",
              "      <td>100.000000</td>\n",
              "    </tr>\n",
              "    <tr>\n",
              "      <th>il_util</th>\n",
              "      <td>999</td>\n",
              "      <td>100.000000</td>\n",
              "    </tr>\n",
              "    <tr>\n",
              "      <th>mths_since_last_record</th>\n",
              "      <td>979</td>\n",
              "      <td>97.997998</td>\n",
              "    </tr>\n",
              "    <tr>\n",
              "      <th>next_pymnt_d</th>\n",
              "      <td>905</td>\n",
              "      <td>90.590591</td>\n",
              "    </tr>\n",
              "    <tr>\n",
              "      <th>mths_since_last_delinq</th>\n",
              "      <td>774</td>\n",
              "      <td>77.477477</td>\n",
              "    </tr>\n",
              "    <tr>\n",
              "      <th>desc</th>\n",
              "      <td>432</td>\n",
              "      <td>43.243243</td>\n",
              "    </tr>\n",
              "    <tr>\n",
              "      <th>emp_title</th>\n",
              "      <td>51</td>\n",
              "      <td>5.105105</td>\n",
              "    </tr>\n",
              "    <tr>\n",
              "      <th>emp_length</th>\n",
              "      <td>17</td>\n",
              "      <td>1.701702</td>\n",
              "    </tr>\n",
              "    <tr>\n",
              "      <th>last_pymnt_d</th>\n",
              "      <td>1</td>\n",
              "      <td>0.100100</td>\n",
              "    </tr>\n",
              "  </tbody>\n",
              "</table>\n",
              "</div>"
            ],
            "text/plain": [
              "                             Total     Percent\n",
              "inq_last_12m                   999  100.000000\n",
              "open_il_24m                    999  100.000000\n",
              "total_cu_tl                    999  100.000000\n",
              "annual_inc_joint               999  100.000000\n",
              "dti_joint                      999  100.000000\n",
              "verification_status_joint      999  100.000000\n",
              "tot_coll_amt                   999  100.000000\n",
              "tot_cur_bal                    999  100.000000\n",
              "open_acc_6m                    999  100.000000\n",
              "open_il_6m                     999  100.000000\n",
              "open_il_12m                    999  100.000000\n",
              "mths_since_last_major_derog    999  100.000000\n",
              "mths_since_rcnt_il             999  100.000000\n",
              "max_bal_bc                     999  100.000000\n",
              "inq_fi                         999  100.000000\n",
              "total_bal_il                   999  100.000000\n",
              "all_util                       999  100.000000\n",
              "total_rev_hi_lim               999  100.000000\n",
              "open_rv_24m                    999  100.000000\n",
              "open_rv_12m                    999  100.000000\n",
              "il_util                        999  100.000000\n",
              "mths_since_last_record         979   97.997998\n",
              "next_pymnt_d                   905   90.590591\n",
              "mths_since_last_delinq         774   77.477477\n",
              "desc                           432   43.243243\n",
              "emp_title                       51    5.105105\n",
              "emp_length                      17    1.701702\n",
              "last_pymnt_d                     1    0.100100"
            ]
          },
          "execution_count": 4,
          "metadata": {},
          "output_type": "execute_result"
        },
        {
          "data": {
            "image/png": "[encoded data removed]",
            "text/plain": [
              "<Figure size 576x432 with 1 Axes>"
            ]
          },
          "metadata": {
            "needs_background": "light"
          },
          "output_type": "display_data"
        }
      ],
      "source": [
        "def missingdata(data):\n",
        "    total = data.isnull().sum().sort_values(ascending = False)\n",
        "    percent = (data.isnull().sum()/data.isnull().count()*100).sort_values(ascending = False)\n",
        "    ms=pd.concat([total, percent], axis=1, keys=['Total', 'Percent'])\n",
        "    ms= ms[ms[\"Percent\"] > 0]\n",
        "    f,ax =plt.subplots(figsize=(8,6))\n",
        "    plt.xticks(rotation='90')\n",
        "    fig=sns.barplot(ms.index, ms[\"Percent\"],color=\"green\",alpha=0.8)\n",
        "    plt.xlabel('Features', fontsize=15)\n",
        "    plt.ylabel('Percent of missing values', fontsize=15)\n",
        "    plt.title('Percent missing data by feature', fontsize=15)\n",
        "    return ms\n",
        "missingdata(df)"
      ],
      "id": "2xbthhqfhkGc"
    },
    {
      "cell_type": "code",
      "execution_count": null,
      "metadata": {
        "id": "aXleVebnhkGc"
      },
      "outputs": [],
      "source": [
        "df2 = df.drop(['inq_last_12m', 'total_cu_tl', 'inq_fi', 'total_rev_hi_lim', 'all_util', 'max_bal_bc', 'open_rv_24m', 'open_rv_12m', 'il_util', 'total_bal_il', 'mths_since_rcnt_il', 'open_il_24m', 'open_il_12m', 'open_il_6m', 'open_acc_6m', 'tot_cur_bal', 'tot_coll_amt', 'acc_now_delinq', 'verification_status_joint', 'dti_joint', 'annual_inc_joint', 'application_type', 'policy_code', 'mths_since_last_major_derog', 'collections_12_mths_ex_med', 'last_credit_pull_d', 'next_pymnt_d', 'last_pymnt_d', 'initial_list_status', 'pymnt_plan'], axis = 1)"
      ],
      "id": "aXleVebnhkGc"
    },
    {
      "cell_type": "code",
      "execution_count": null,
      "metadata": {
        "id": "_2UDP78zhkGd",
        "outputId": "25f09e25-e80d-451f-df29-1f22330c21f4"
      },
      "outputs": [
        {
          "name": "stdout",
          "output_type": "stream",
          "text": [
            "999\n"
          ]
        }
      ],
      "source": [
        "print(len(df2))"
      ],
      "id": "_2UDP78zhkGd"
    },
    {
      "cell_type": "code",
      "execution_count": null,
      "metadata": {
        "id": "MOUPVkBjhkGd",
        "outputId": "eeaab50c-f99e-4b39-b1f1-579d6b286560"
      },
      "outputs": [
        {
          "data": {
            "text/plain": [
              "<AxesSubplot:xlabel='CLI', ylabel='Density'>"
            ]
          },
          "execution_count": 75,
          "metadata": {},
          "output_type": "execute_result"
        },
        {
          "data": {
            "image/png": "[encoded data removed]",
            "text/plain": [
              "<Figure size 432x288 with 1 Axes>"
            ]
          },
          "metadata": {
            "needs_background": "light"
          },
          "output_type": "display_data"
        }
      ],
      "source": [
        "sns.distplot(df2['CLI'], kde=True)"
      ],
      "id": "MOUPVkBjhkGd"
    },
    {
      "cell_type": "code",
      "execution_count": null,
      "metadata": {
        "id": "PM5xOAClhkGd",
        "outputId": "921eb7ec-b273-4cd2-ff73-4382f1ef9432"
      },
      "outputs": [
        {
          "data": {
            "text/plain": [
              "<matplotlib.collections.PathCollection at 0x22e34beeaf0>"
            ]
          },
          "execution_count": 76,
          "metadata": {},
          "output_type": "execute_result"
        },
        {
          "data": {
            "image/png": "[encoded data removed]",
            "text/plain": [
              "<Figure size 432x288 with 1 Axes>"
            ]
          },
          "metadata": {
            "needs_background": "light"
          },
          "output_type": "display_data"
        }
      ],
      "source": [
        "x=df2['installment']\n",
        "y=df2['CLI']\n",
        "plt.scatter(x,y)"
      ],
      "id": "PM5xOAClhkGd"
    },
    {
      "cell_type": "code",
      "execution_count": null,
      "metadata": {
        "id": "jBl2aOuDhkGe",
        "outputId": "f52f7424-9b0e-4925-a13d-9334f7c74d2c"
      },
      "outputs": [
        {
          "data": {
            "text/plain": [
              "<matplotlib.collections.PathCollection at 0x22e34ca54f0>"
            ]
          },
          "execution_count": 77,
          "metadata": {},
          "output_type": "execute_result"
        },
        {
          "data": {
            "image/png": "[encoded data removed]",
            "text/plain": [
              "<Figure size 432x288 with 1 Axes>"
            ]
          },
          "metadata": {
            "needs_background": "light"
          },
          "output_type": "display_data"
        }
      ],
      "source": [
        "x=df2['grade']\n",
        "y=df2['CLI']\n",
        "plt.scatter(x,y)"
      ],
      "id": "jBl2aOuDhkGe"
    },
    {
      "cell_type": "code",
      "execution_count": null,
      "metadata": {
        "id": "DGAmxpcdhkGe",
        "outputId": "459cde3c-94fe-4b61-a1b3-a985dc0ae25d"
      },
      "outputs": [
        {
          "data": {
            "text/plain": [
              "(12197.797797797797, 11000.0)"
            ]
          },
          "execution_count": 78,
          "metadata": {},
          "output_type": "execute_result"
        }
      ],
      "source": [
        "df2['CLI'].mean(),df2['CLI'].median()"
      ],
      "id": "DGAmxpcdhkGe"
    },
    {
      "cell_type": "code",
      "execution_count": null,
      "metadata": {
        "scrolled": true,
        "id": "xVSlkGHphkGe",
        "outputId": "11b46fbe-7fd4-41d2-cd10-cce9baa07bd3"
      },
      "outputs": [
        {
          "data": {
            "text/plain": [
              "id                           0\n",
              "member_id                    0\n",
              "CLI                          0\n",
              "term                         0\n",
              "int_rate                     0\n",
              "installment                  0\n",
              "grade                        0\n",
              "sub_grade                    0\n",
              "emp_title                   51\n",
              "emp_length                  17\n",
              "home_ownership               0\n",
              "annual_inc                   0\n",
              "verification_status          0\n",
              "loan_status                  0\n",
              "desc                       432\n",
              "purpose                      0\n",
              "title                        0\n",
              "zip_code                     0\n",
              "addr_state                   0\n",
              "dti                          0\n",
              "delinq_2yrs                  0\n",
              "earliest_cr_line             0\n",
              "inq_last_6mths               0\n",
              "mths_since_last_delinq     774\n",
              "mths_since_last_record     979\n",
              "open_acc                     0\n",
              "pub_rec                      0\n",
              "revol_bal                    0\n",
              "revol_util                   0\n",
              "total_acc                    0\n",
              "out_prncp                    0\n",
              "out_prncp_inv                0\n",
              "total_pymnt                  0\n",
              "total_pymnt_inv              0\n",
              "total_rec_prncp              0\n",
              "total_rec_int                0\n",
              "total_rec_late_fee           0\n",
              "recoveries                   0\n",
              "collection_recovery_fee      0\n",
              "last_pymnt_amnt              0\n",
              "dtype: int64"
            ]
          },
          "execution_count": 79,
          "metadata": {},
          "output_type": "execute_result"
        }
      ],
      "source": [
        "df2.isna().sum()"
      ],
      "id": "xVSlkGHphkGe"
    },
    {
      "cell_type": "code",
      "execution_count": null,
      "metadata": {
        "id": "GEv3vEn9hkGe",
        "outputId": "12aa8c63-43f6-4182-ea4b-56ec994e4ec3"
      },
      "outputs": [
        {
          "data": {
            "text/plain": [
              "(999, 40)"
            ]
          },
          "execution_count": 80,
          "metadata": {},
          "output_type": "execute_result"
        }
      ],
      "source": [
        "df2.shape"
      ],
      "id": "GEv3vEn9hkGe"
    },
    {
      "cell_type": "code",
      "execution_count": null,
      "metadata": {
        "id": "MJ300ANvhkGe"
      },
      "outputs": [],
      "source": [
        "df2 = df2.drop(['collection_recovery_fee', 'recoveries', 'total_rec_late_fee', 'revol_util', 'pub_rec', 'mths_since_last_record', 'mths_since_last_delinq', 'inq_last_6mths', 'earliest_cr_line', 'delinq_2yrs', 'zip_code', 'title', 'desc', 'emp_title'], axis=1)"
      ],
      "id": "MJ300ANvhkGe"
    },
    {
      "cell_type": "code",
      "execution_count": null,
      "metadata": {
        "id": "7p5UpobNhkGe",
        "outputId": "c8c2d562-7319-4c1c-cb3f-c4f70dcb1dbb"
      },
      "outputs": [
        {
          "data": {
            "text/plain": [
              "(999, 26)"
            ]
          },
          "execution_count": 82,
          "metadata": {},
          "output_type": "execute_result"
        }
      ],
      "source": [
        "df2.shape"
      ],
      "id": "7p5UpobNhkGe"
    },
    {
      "cell_type": "code",
      "execution_count": null,
      "metadata": {
        "id": "m-TmyCBEhkGe"
      },
      "outputs": [],
      "source": [
        "df2['emp_length'].fillna(df2['emp_length'].mode()[0], inplace = True)"
      ],
      "id": "m-TmyCBEhkGe"
    },
    {
      "cell_type": "code",
      "execution_count": null,
      "metadata": {
        "id": "ERwcvXxPhkGe",
        "outputId": "73af3417-40a9-476d-c52b-77d6a807243c"
      },
      "outputs": [
        {
          "name": "stdout",
          "output_type": "stream",
          "text": [
            "id                     0\n",
            "member_id              0\n",
            "CLI                    0\n",
            "term                   0\n",
            "int_rate               0\n",
            "installment            0\n",
            "grade                  0\n",
            "sub_grade              0\n",
            "emp_length             0\n",
            "home_ownership         0\n",
            "annual_inc             0\n",
            "verification_status    0\n",
            "loan_status            0\n",
            "purpose                0\n",
            "addr_state             0\n",
            "dti                    0\n",
            "open_acc               0\n",
            "revol_bal              0\n",
            "total_acc              0\n",
            "out_prncp              0\n",
            "out_prncp_inv          0\n",
            "total_pymnt            0\n",
            "total_pymnt_inv        0\n",
            "total_rec_prncp        0\n",
            "total_rec_int          0\n",
            "last_pymnt_amnt        0\n",
            "dtype: int64\n"
          ]
        }
      ],
      "source": [
        "print(df2.isnull().sum())"
      ],
      "id": "ERwcvXxPhkGe"
    },
    {
      "cell_type": "code",
      "execution_count": null,
      "metadata": {
        "id": "jtuX4eG1hkGe",
        "outputId": "c1ac60c2-6e8d-4e1a-822d-25a041d80d4a"
      },
      "outputs": [
        {
          "data": {
            "text/plain": [
              "Index(['id', 'member_id', 'CLI', 'term', 'int_rate', 'installment', 'grade',\n",
              "       'sub_grade', 'emp_length', 'home_ownership', 'annual_inc',\n",
              "       'verification_status', 'loan_status', 'purpose', 'addr_state', 'dti',\n",
              "       'open_acc', 'revol_bal', 'total_acc', 'out_prncp', 'out_prncp_inv',\n",
              "       'total_pymnt', 'total_pymnt_inv', 'total_rec_prncp', 'total_rec_int',\n",
              "       'last_pymnt_amnt'],\n",
              "      dtype='object')"
            ]
          },
          "execution_count": 86,
          "metadata": {},
          "output_type": "execute_result"
        }
      ],
      "source": [
        "df2.columns"
      ],
      "id": "jtuX4eG1hkGe"
    },
    {
      "cell_type": "code",
      "execution_count": null,
      "metadata": {
        "id": "8V_FEVSShkGe",
        "outputId": "3312f072-1ac2-4bbd-8e71-60dc947cd879"
      },
      "outputs": [
        {
          "data": {
            "text/plain": [
              "id                       int64\n",
              "member_id                int64\n",
              "CLI                      int64\n",
              "term                    object\n",
              "int_rate               float64\n",
              "installment            float64\n",
              "grade                   object\n",
              "sub_grade               object\n",
              "emp_length              object\n",
              "home_ownership          object\n",
              "annual_inc             float64\n",
              "verification_status     object\n",
              "loan_status             object\n",
              "purpose                 object\n",
              "addr_state              object\n",
              "dti                    float64\n",
              "open_acc                 int64\n",
              "revol_bal                int64\n",
              "total_acc                int64\n",
              "out_prncp              float64\n",
              "out_prncp_inv          float64\n",
              "total_pymnt            float64\n",
              "total_pymnt_inv        float64\n",
              "total_rec_prncp        float64\n",
              "total_rec_int          float64\n",
              "last_pymnt_amnt        float64\n",
              "dtype: object"
            ]
          },
          "execution_count": 87,
          "metadata": {},
          "output_type": "execute_result"
        }
      ],
      "source": [
        "df2.dtypes"
      ],
      "id": "8V_FEVSShkGe"
    },
    {
      "cell_type": "code",
      "execution_count": null,
      "metadata": {
        "id": "0ZMEqwA1hkGe"
      },
      "outputs": [],
      "source": [
        "df2 = df2.convert_dtypes()"
      ],
      "id": "0ZMEqwA1hkGe"
    },
    {
      "cell_type": "code",
      "execution_count": null,
      "metadata": {
        "id": "cGmd43CahkGe",
        "outputId": "5c9d887a-6b6d-4097-d406-8695481dbd72"
      },
      "outputs": [
        {
          "data": {
            "text/plain": [
              "id                       Int64\n",
              "member_id                Int64\n",
              "CLI                      Int64\n",
              "term                    string\n",
              "int_rate               Float64\n",
              "installment            Float64\n",
              "grade                   string\n",
              "sub_grade               string\n",
              "emp_length              string\n",
              "home_ownership          string\n",
              "annual_inc             Float64\n",
              "verification_status     string\n",
              "loan_status             string\n",
              "purpose                 string\n",
              "addr_state              string\n",
              "dti                    Float64\n",
              "open_acc                 Int64\n",
              "revol_bal                Int64\n",
              "total_acc                Int64\n",
              "out_prncp              Float64\n",
              "out_prncp_inv          Float64\n",
              "total_pymnt            Float64\n",
              "total_pymnt_inv        Float64\n",
              "total_rec_prncp        Float64\n",
              "total_rec_int          Float64\n",
              "last_pymnt_amnt        Float64\n",
              "dtype: object"
            ]
          },
          "execution_count": 89,
          "metadata": {},
          "output_type": "execute_result"
        }
      ],
      "source": [
        "df2.dtypes"
      ],
      "id": "cGmd43CahkGe"
    },
    {
      "cell_type": "code",
      "execution_count": null,
      "metadata": {
        "id": "JoHnEmCThkGf",
        "outputId": "95cdaf24-b571-4512-a2ac-25be925678d6"
      },
      "outputs": [
        {
          "data": {
            "text/plain": [
              "<matplotlib.collections.PathCollection at 0x22e34cf96a0>"
            ]
          },
          "execution_count": 90,
          "metadata": {},
          "output_type": "execute_result"
        },
        {
          "data": {
            "image/png": "[encoded data removed]",
            "text/plain": [
              "<Figure size 432x288 with 1 Axes>"
            ]
          },
          "metadata": {
            "needs_background": "light"
          },
          "output_type": "display_data"
        }
      ],
      "source": [
        "x=df2['total_pymnt']\n",
        "y=df2['CLI']\n",
        "plt.scatter(x,y)"
      ],
      "id": "JoHnEmCThkGf"
    },
    {
      "cell_type": "code",
      "execution_count": null,
      "metadata": {
        "id": "1Q0XaLE6hkGf",
        "outputId": "0069deed-4bdd-4df5-b5bd-53a8271dec42"
      },
      "outputs": [
        {
          "data": {
            "text/plain": [
              "<AxesSubplot:title={'center':'CLI'}, ylabel='Frequency'>"
            ]
          },
          "execution_count": 91,
          "metadata": {},
          "output_type": "execute_result"
        },
        {
          "data": {
            "image/png": "[encoded data removed]",
            "text/plain": [
              "<Figure size 576x360 with 1 Axes>"
            ]
          },
          "metadata": {
            "needs_background": "light"
          },
          "output_type": "display_data"
        }
      ],
      "source": [
        "df2.CLI.plot(kind='hist',title='CLI',figsize=(8,5))"
      ],
      "id": "1Q0XaLE6hkGf"
    },
    {
      "cell_type": "code",
      "execution_count": null,
      "metadata": {
        "id": "qZ7TCvEihkGf",
        "outputId": "e4f27dfc-5483-466a-d15b-58da27252eb0"
      },
      "outputs": [
        {
          "data": {
            "text/plain": [
              "<matplotlib.collections.PathCollection at 0x22e34dd24f0>"
            ]
          },
          "execution_count": 92,
          "metadata": {},
          "output_type": "execute_result"
        },
        {
          "data": {
            "image/png": "[encoded data removed]",
            "text/plain": [
              "<Figure size 432x288 with 1 Axes>"
            ]
          },
          "metadata": {
            "needs_background": "light"
          },
          "output_type": "display_data"
        }
      ],
      "source": [
        "x=df2['int_rate']\n",
        "y=df2['CLI']\n",
        "plt.scatter(x,y)"
      ],
      "id": "qZ7TCvEihkGf"
    },
    {
      "cell_type": "code",
      "execution_count": null,
      "metadata": {
        "id": "_LGtkdnehkGf",
        "outputId": "3e7dc8ef-256c-4e92-877e-370bf4910ef3"
      },
      "outputs": [
        {
          "data": {
            "text/plain": [
              "Index(['id', 'member_id', 'CLI', 'term', 'int_rate', 'installment', 'grade',\n",
              "       'sub_grade', 'emp_length', 'home_ownership', 'annual_inc',\n",
              "       'verification_status', 'loan_status', 'purpose', 'addr_state', 'dti',\n",
              "       'open_acc', 'revol_bal', 'total_acc', 'out_prncp', 'out_prncp_inv',\n",
              "       'total_pymnt', 'total_pymnt_inv', 'total_rec_prncp', 'total_rec_int',\n",
              "       'last_pymnt_amnt'],\n",
              "      dtype='object')"
            ]
          },
          "execution_count": 93,
          "metadata": {},
          "output_type": "execute_result"
        }
      ],
      "source": [
        "df2.columns"
      ],
      "id": "_LGtkdnehkGf"
    },
    {
      "cell_type": "code",
      "execution_count": null,
      "metadata": {
        "id": "gjDU05-DhkGf",
        "outputId": "1ccdccb3-fd53-4a4a-dc77-d1535dd42b1d"
      },
      "outputs": [
        {
          "data": {
            "text/plain": [
              "(999, 26)"
            ]
          },
          "execution_count": 94,
          "metadata": {},
          "output_type": "execute_result"
        }
      ],
      "source": [
        "df2.shape"
      ],
      "id": "gjDU05-DhkGf"
    },
    {
      "cell_type": "code",
      "execution_count": null,
      "metadata": {
        "id": "EkSvQtqPhkGf"
      },
      "outputs": [],
      "source": [
        "df2 = df2.drop(['addr_state'], axis=1)"
      ],
      "id": "EkSvQtqPhkGf"
    },
    {
      "cell_type": "code",
      "execution_count": null,
      "metadata": {
        "id": "p4gmAIQNhkGf",
        "outputId": "433838d7-99c5-4eda-af95-45733083cab1"
      },
      "outputs": [
        {
          "data": {
            "text/plain": [
              "Index(['id', 'member_id', 'CLI', 'term', 'int_rate', 'installment', 'grade',\n",
              "       'sub_grade', 'emp_length', 'home_ownership', 'annual_inc',\n",
              "       'verification_status', 'loan_status', 'purpose', 'dti', 'open_acc',\n",
              "       'revol_bal', 'total_acc', 'out_prncp', 'out_prncp_inv', 'total_pymnt',\n",
              "       'total_pymnt_inv', 'total_rec_prncp', 'total_rec_int',\n",
              "       'last_pymnt_amnt'],\n",
              "      dtype='object')"
            ]
          },
          "execution_count": 96,
          "metadata": {},
          "output_type": "execute_result"
        }
      ],
      "source": [
        "df2.columns"
      ],
      "id": "p4gmAIQNhkGf"
    },
    {
      "cell_type": "code",
      "execution_count": null,
      "metadata": {
        "id": "JpGLS5eUhkGf"
      },
      "outputs": [],
      "source": [
        "traindf = df2\n",
        "traindf = pd.get_dummies(traindf, columns = ['home_ownership', 'verification_status', 'grade', 'sub_grade', 'loan_status', 'emp_length', 'purpose', 'term'])"
      ],
      "id": "JpGLS5eUhkGf"
    },
    {
      "cell_type": "code",
      "execution_count": null,
      "metadata": {
        "id": "Ty2A0WgNhkGf",
        "outputId": "9544e82c-2726-4a72-ae46-389e17c36f88"
      },
      "outputs": [
        {
          "data": {
            "text/plain": [
              "(999, 95)"
            ]
          },
          "execution_count": 98,
          "metadata": {},
          "output_type": "execute_result"
        }
      ],
      "source": [
        "traindf.shape"
      ],
      "id": "Ty2A0WgNhkGf"
    },
    {
      "cell_type": "code",
      "execution_count": null,
      "metadata": {
        "scrolled": true,
        "id": "3puMZZNBhkGf",
        "outputId": "5ead8354-fa5b-44a0-ccbe-003b7500ce5b"
      },
      "outputs": [
        {
          "data": {
            "text/plain": [
              "id                          Int64\n",
              "member_id                   Int64\n",
              "CLI                         Int64\n",
              "int_rate                  Float64\n",
              "installment               Float64\n",
              "                           ...   \n",
              "purpose_small_business      uint8\n",
              "purpose_vacation            uint8\n",
              "purpose_wedding             uint8\n",
              "term_ 36 months             uint8\n",
              "term_ 60 months             uint8\n",
              "Length: 95, dtype: object"
            ]
          },
          "execution_count": 100,
          "metadata": {},
          "output_type": "execute_result"
        }
      ],
      "source": [
        "traindf.dtypes"
      ],
      "id": "3puMZZNBhkGf"
    },
    {
      "cell_type": "code",
      "execution_count": null,
      "metadata": {
        "id": "rehHDVcnhkGf"
      },
      "outputs": [],
      "source": [
        "from sklearn.model_selection import train_test_split\n",
        "from sklearn.metrics import accuracy_score\n",
        "from sklearn.model_selection import cross_val_predict\n",
        "from sklearn import metrics\n",
        "from sklearn.metrics import mean_squared_error, r2_score"
      ],
      "id": "rehHDVcnhkGf"
    },
    {
      "cell_type": "code",
      "execution_count": null,
      "metadata": {
        "scrolled": true,
        "id": "NoFYBU5xhkGf",
        "outputId": "ba80a092-9a36-4e69-b026-53a9263a7f08"
      },
      "outputs": [
        {
          "data": {
            "text/plain": [
              "((699, 94), (300, 94), (699,), (300,))"
            ]
          },
          "execution_count": 237,
          "metadata": {},
          "output_type": "execute_result"
        }
      ],
      "source": [
        "input1 = traindf.drop('CLI',axis=1)\n",
        "output1 = traindf['CLI']\n",
        "output1=output1.astype('int')\n",
        "\n",
        "X_train,X_test,y_train,y_test = train_test_split(input1,output1,test_size=0.3,random_state=42)\n",
        "X_train.shape,X_test.shape,y_train.shape,y_test.shape"
      ],
      "id": "NoFYBU5xhkGf"
    },
    {
      "cell_type": "code",
      "execution_count": null,
      "metadata": {
        "id": "1KXemwRQhkGf"
      },
      "outputs": [],
      "source": [
        "#Linear Regression"
      ],
      "id": "1KXemwRQhkGf"
    },
    {
      "cell_type": "code",
      "execution_count": null,
      "metadata": {
        "id": "N520hxA4hkGj"
      },
      "outputs": [],
      "source": [
        "from sklearn.linear_model import LinearRegression"
      ],
      "id": "N520hxA4hkGj"
    },
    {
      "cell_type": "code",
      "execution_count": null,
      "metadata": {
        "id": "4y3aAk76hkGj",
        "outputId": "46522c64-1a46-4cb0-bc52-881834fa5851"
      },
      "outputs": [
        {
          "data": {
            "text/plain": [
              "LinearRegression()"
            ]
          },
          "execution_count": 239,
          "metadata": {},
          "output_type": "execute_result"
        }
      ],
      "source": [
        "lr = LinearRegression()\n",
        "lr.fit(X_train, y_train)"
      ],
      "id": "4y3aAk76hkGj"
    },
    {
      "cell_type": "code",
      "execution_count": null,
      "metadata": {
        "id": "UV57ZAWUhkGj",
        "outputId": "85357f76-ea20-4308-b1a1-223ad61eb651"
      },
      "outputs": [
        {
          "name": "stdout",
          "output_type": "stream",
          "text": [
            "...The Accuracy Of The Model...\n",
            "Accuracy of linear regression model: 0.99\n",
            "Mean squared error: 551892.28\n",
            "Coefficient of determination: 0.99\n"
          ]
        }
      ],
      "source": [
        "print('...The Accuracy Of The Model...')\n",
        "print('Accuracy of linear regression model: {:.2f}'.format(lr.score(X_test, y_test)))\n",
        "y_pred = lr.predict(X_test)\n",
        "print('Mean squared error: %.2f'% mean_squared_error(y_test,y_pred))\n",
        "print('Coefficient of determination: %.2f'% r2_score((y_test), (y_pred)))"
      ],
      "id": "UV57ZAWUhkGj"
    },
    {
      "cell_type": "code",
      "execution_count": null,
      "metadata": {
        "id": "si78BEkchkGj",
        "outputId": "dcd61b68-e57b-47cc-f635-ad7ceb1c5211"
      },
      "outputs": [
        {
          "name": "stdout",
          "output_type": "stream",
          "text": [
            "3727.701094211754\n"
          ]
        }
      ],
      "source": [
        "print(lr.intercept_)"
      ],
      "id": "si78BEkchkGj"
    },
    {
      "cell_type": "code",
      "execution_count": null,
      "metadata": {
        "id": "YOqu4qaLhkGj",
        "outputId": "10001437-16da-4dc7-ce4a-c20bf823320b"
      },
      "outputs": [
        {
          "data": {
            "image/png": "[encoded data removed]",
            "text/plain": [
              "<Figure size 432x288 with 1 Axes>"
            ]
          },
          "metadata": {
            "needs_background": "light"
          },
          "output_type": "display_data"
        }
      ],
      "source": [
        "plt.scatter(range(0, len(y_test)), y_test, color='blue')\n",
        "plt.scatter(range(0, len(y_test)), y_pred, color='red')\n",
        "plt.show()"
      ],
      "id": "YOqu4qaLhkGj"
    },
    {
      "cell_type": "code",
      "execution_count": null,
      "metadata": {
        "id": "kGWOwwKlhkGj"
      },
      "outputs": [],
      "source": [
        "#Ridge Regression"
      ],
      "id": "kGWOwwKlhkGj"
    },
    {
      "cell_type": "code",
      "execution_count": null,
      "metadata": {
        "id": "mDqLnuKQhkGk"
      },
      "outputs": [],
      "source": [
        "from sklearn.linear_model import Ridge\n",
        "R = Ridge(alpha=0.001)"
      ],
      "id": "mDqLnuKQhkGk"
    },
    {
      "cell_type": "code",
      "execution_count": null,
      "metadata": {
        "id": "TP2Be2-HhkGk",
        "outputId": "16900e51-613b-4b97-cdd8-6142835de4e8"
      },
      "outputs": [
        {
          "data": {
            "text/plain": [
              "Ridge(alpha=0.001)"
            ]
          },
          "execution_count": 244,
          "metadata": {},
          "output_type": "execute_result"
        }
      ],
      "source": [
        "R.fit(X_train, y_train)"
      ],
      "id": "TP2Be2-HhkGk"
    },
    {
      "cell_type": "code",
      "execution_count": null,
      "metadata": {
        "id": "7X-NfR4chkGk",
        "outputId": "2fdc6eae-a714-41ab-d192-6c03f9cb09fb"
      },
      "outputs": [
        {
          "name": "stdout",
          "output_type": "stream",
          "text": [
            "...The Accuracy Of The Model...\n",
            "Accuracy of ridge regression model: 0.99\n",
            "Mean squared error: 551827.99\n",
            "Coefficient of determination: 0.99\n"
          ]
        }
      ],
      "source": [
        "print('...The Accuracy Of The Model...')\n",
        "print('Accuracy of ridge regression model: {:.2f}'.format(R.score(X_test, y_test)))\n",
        "y_pred = R.predict(X_test)\n",
        "print('Mean squared error: %.2f'% mean_squared_error(y_test,y_pred))\n",
        "print('Coefficient of determination: %.2f'% r2_score((y_test), (y_pred)))"
      ],
      "id": "7X-NfR4chkGk"
    },
    {
      "cell_type": "code",
      "execution_count": null,
      "metadata": {
        "id": "SCk0m8xahkGk"
      },
      "outputs": [],
      "source": [
        "#Random Forest Regression"
      ],
      "id": "SCk0m8xahkGk"
    },
    {
      "cell_type": "code",
      "execution_count": null,
      "metadata": {
        "id": "xJDiPDGhhkGk",
        "outputId": "6003ee0b-a8e3-4619-fa15-b823ab2b2e49"
      },
      "outputs": [
        {
          "data": {
            "text/plain": [
              "RandomForestRegressor(random_state=0)"
            ]
          },
          "execution_count": 248,
          "metadata": {},
          "output_type": "execute_result"
        }
      ],
      "source": [
        "from sklearn.ensemble import RandomForestRegressor\n",
        "\n",
        "regressor = RandomForestRegressor(n_estimators = 100, random_state = 0)\n",
        "regressor.fit(X_train, y_train)"
      ],
      "id": "xJDiPDGhhkGk"
    },
    {
      "cell_type": "code",
      "execution_count": null,
      "metadata": {
        "id": "ZD4owxWZhkGk",
        "outputId": "42269c6a-fe7a-4bbf-ed20-da9799fcd5dc"
      },
      "outputs": [
        {
          "name": "stdout",
          "output_type": "stream",
          "text": [
            "...The Accuracy Of The Model...\n",
            "Accuracy of random forest regression model: 0.99\n",
            "Mean squared error: 384427.36\n",
            "Coefficient of determination: 0.99\n"
          ]
        }
      ],
      "source": [
        "print('...The Accuracy Of The Model...')\n",
        "print('Accuracy of random forest regression model: {:.2f}'.format(regressor.score(X_test, y_test)))\n",
        "y_pred = regressor.predict(X_test)\n",
        "print('Mean squared error: %.2f'% mean_squared_error(y_test,y_pred))\n",
        "print('Coefficient of determination: %.2f'% r2_score((y_test), (y_pred)))"
      ],
      "id": "ZD4owxWZhkGk"
    },
    {
      "cell_type": "code",
      "execution_count": null,
      "metadata": {
        "id": "ajNtKehwhkGk"
      },
      "outputs": [],
      "source": [
        "#Lasso Regression"
      ],
      "id": "ajNtKehwhkGk"
    },
    {
      "cell_type": "code",
      "execution_count": null,
      "metadata": {
        "id": "4gTQfGs0hkGk",
        "outputId": "04c147a1-2fcf-4797-aecb-4afddb260fc0"
      },
      "outputs": [
        {
          "data": {
            "text/plain": [
              "Lasso(alpha=0.01)"
            ]
          },
          "execution_count": 250,
          "metadata": {},
          "output_type": "execute_result"
        }
      ],
      "source": [
        "from sklearn.linear_model import Lasso\n",
        "\n",
        "lasso = Lasso(alpha = 0.01)\n",
        "lasso.fit(X_train, y_train)"
      ],
      "id": "4gTQfGs0hkGk"
    },
    {
      "cell_type": "code",
      "execution_count": null,
      "metadata": {
        "id": "O_zwTqYthkGk",
        "outputId": "c203d74e-bf03-4b96-8c80-aeffa125139d"
      },
      "outputs": [
        {
          "name": "stdout",
          "output_type": "stream",
          "text": [
            "...The Accuracy Of The Model...\n",
            "Accuracy of lasso regression model: 0.99\n",
            "Mean squared error: 570356.15\n",
            "Coefficient of determination: 0.99\n"
          ]
        }
      ],
      "source": [
        "print('...The Accuracy Of The Model...')\n",
        "print('Accuracy of lasso regression model: {:.2f}'.format(lasso.score(X_test, y_test)))\n",
        "y_pred = lasso.predict(X_test)\n",
        "print('Mean squared error: %.2f'% mean_squared_error(y_test,y_pred))\n",
        "print('Coefficient of determination: %.2f'% r2_score((y_test), (y_pred)))"
      ],
      "id": "O_zwTqYthkGk"
    }
  ],
  "metadata": {
    "kernelspec": {
      "display_name": "Python 3",
      "language": "python",
      "name": "python3"
    },
    "language_info": {
      "codemirror_mode": {
        "name": "ipython",
        "version": 3
      },
      "file_extension": ".py",
      "mimetype": "text/x-python",
      "name": "python",
      "nbconvert_exporter": "python",
      "pygments_lexer": "ipython3",
      "version": "3.8.5"
    },
    "colab": {
      "provenance": []
    }
  },
  "nbformat": 4,
  "nbformat_minor": 5
}